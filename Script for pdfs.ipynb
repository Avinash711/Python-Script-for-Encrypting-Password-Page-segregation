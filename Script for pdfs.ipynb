{
 "cells": [
  {
   "cell_type": "markdown",
   "metadata": {},
   "source": [
    "# PassWord Encryption Script"
   ]
  },
  {
   "cell_type": "code",
   "execution_count": 1,
   "metadata": {},
   "outputs": [],
   "source": [
    "import PyPDF2 as pyp\n",
    "#from PyPDF2 import PdfFileWriter, PdfFileReader\n",
    "\n",
    "pdfFile = open('sql - What is DDL and DML_ - Stack Overflow.pdf','rb')\n",
    "pdfReader = pyp.PdfFileReader(pdfFile)\n",
    "pdfWriter = pyp.PdfFileWriter()\n",
    "\n",
    "for pageNum in range(pdfReader.numPages):\n",
    "    pdfWriter.addPage(pdfReader.getPage(pageNum))\n",
    "    \n",
    "pdfWriter.encrypt('avinash11')\n",
    "resultPdf = open('demo123.pdf','wb')\n",
    "pdfWriter.write(resultPdf)\n",
    "resultPdf.close()"
   ]
  },
  {
   "cell_type": "markdown",
   "metadata": {},
   "source": [
    "# Script to retrive each pages in separate PDF formats"
   ]
  },
  {
   "cell_type": "code",
   "execution_count": 4,
   "metadata": {},
   "outputs": [],
   "source": [
    "from PyPDF2 import PdfFileWriter, PdfFileReader\n",
    "\n",
    "pdf_in_file = open(\"Python django.pdf\",'rb')\n",
    "\n",
    "inputpdf = PdfFileReader(pdf_in_file)\n",
    "pages_no = inputpdf.numPages\n",
    "\n",
    "for i in range(pages_no):\n",
    "    inputpdf = PdfFileReader(pdf_in_file)\n",
    "    output = PdfFileWriter()\n",
    "    output.addPage(inputpdf.getPage(i))\n",
    "    with open(\"document-page%s.pdf\" % i, \"wb\") as outputStream:\n",
    "        output.write(outputStream)\n",
    "\n",
    "pdf_in_file.close() "
   ]
  }
 ],
 "metadata": {
  "kernelspec": {
   "display_name": "Python 3",
   "language": "python",
   "name": "python3"
  },
  "language_info": {
   "codemirror_mode": {
    "name": "ipython",
    "version": 3
   },
   "file_extension": ".py",
   "mimetype": "text/x-python",
   "name": "python",
   "nbconvert_exporter": "python",
   "pygments_lexer": "ipython3",
   "version": "3.7.3"
  }
 },
 "nbformat": 4,
 "nbformat_minor": 2
}
